{
 "cells": [
  {
   "cell_type": "code",
   "execution_count": 2,
   "metadata": {},
   "outputs": [
    {
     "name": "stdout",
     "output_type": "stream",
     "text": [
      "[[0. 0. 0. 0. 0. 0. 0. 0.]\n",
      " [0. 1. 1. 1. 1. 1. 1. 1.]\n",
      " [0. 1. 1. 1. 1. 1. 1. 1.]\n",
      " [0. 1. 1. 1. 1. 1. 2. 2.]]\n",
      "[9, 3]\n"
     ]
    }
   ],
   "source": [
    "import numpy\n",
    "list1 = [9,1,3]\n",
    "list2 = [9,7,5,6,2,3,6]\n",
    "len1 = len(list1)+1\n",
    "len2 = len(list2)+1\n",
    "table = numpy.zeros(shape=(len1,len2))\n",
    "final = []\n",
    "\n",
    "#迴圈做出table\n",
    "for i in range(1,len1):\n",
    "    for j in range(1,len2):\n",
    "        if list1[i-1] == list2[j-1]:\n",
    "            table[i][j] = table[i-1][j-1]+1;\n",
    "        else:\n",
    "            table[i][j] = max(table[i-1][j],table[i][j-1])\n",
    "print(table)\n",
    "\n",
    "\n",
    "\n",
    "\n",
    "j = len2-1\n",
    "\n",
    "\n",
    "\n",
    "#找到LCS\n",
    "for i in range(len1-1,0,-1):\n",
    "    while j>0:\n",
    "        if table[i][j]>table[i][j-1] and table[i][j]>table[i-1][j]:\n",
    "            final.append(list1[i-1])\n",
    "            j=j-1\n",
    "            break\n",
    "        if table[i][j]>table[i][j-1] and table[i][j] == table[i-1][j]:\n",
    "            break\n",
    "        j = j-1\n",
    "final.reverse()\n",
    "print(final)        \n",
    "#用迴圈list長度可以很長"
   ]
  },
  {
   "cell_type": "code",
   "execution_count": null,
   "metadata": {},
   "outputs": [],
   "source": []
  },
  {
   "cell_type": "code",
   "execution_count": null,
   "metadata": {},
   "outputs": [],
   "source": []
  },
  {
   "cell_type": "code",
   "execution_count": null,
   "metadata": {},
   "outputs": [],
   "source": []
  }
 ],
 "metadata": {
  "kernelspec": {
   "display_name": "Python 3",
   "language": "python",
   "name": "python3"
  },
  "language_info": {
   "codemirror_mode": {
    "name": "ipython",
    "version": 3
   },
   "file_extension": ".py",
   "mimetype": "text/x-python",
   "name": "python",
   "nbconvert_exporter": "python",
   "pygments_lexer": "ipython3",
   "version": "3.6.5"
  }
 },
 "nbformat": 4,
 "nbformat_minor": 2
}
